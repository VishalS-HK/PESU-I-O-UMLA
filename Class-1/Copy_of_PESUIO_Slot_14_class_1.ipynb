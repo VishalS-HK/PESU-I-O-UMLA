{
  "nbformat": 4,
  "nbformat_minor": 0,
  "metadata": {
    "colab": {
      "provenance": [],
      "collapsed_sections": [],
      "include_colab_link": true
    },
    "kernelspec": {
      "name": "python3",
      "display_name": "Python 3"
    },
    "language_info": {
      "name": "python"
    }
  },
  "cells": [
    {
      "cell_type": "markdown",
      "metadata": {
        "id": "view-in-github",
        "colab_type": "text"
      },
      "source": [
        "<a href=\"https://colab.research.google.com/github/VishalS-HK/PESU-I-O-UMLA/blob/main/Copy_of_PESUIO_Slot_14_class_1.ipynb\" target=\"_parent\"><img src=\"https://colab.research.google.com/assets/colab-badge.svg\" alt=\"Open In Colab\"/></a>"
      ]
    },
    {
      "cell_type": "markdown",
      "source": [
        "Welcome to the first class of undersanding ML algorithms\n",
        "Today you will get yourselves familiar with python and essentially get to dive into the basics of some libraries that you will be learning about throughout this course."
      ],
      "metadata": {
        "id": "uxWHk4LP14P2"
      }
    },
    {
      "cell_type": "markdown",
      "source": [
        "The Most basic Hello World program:"
      ],
      "metadata": {
        "id": "4TUobwcn2cvz"
      }
    },
    {
      "cell_type": "code",
      "source": [
        "print(\"Hello World!\")"
      ],
      "metadata": {
        "colab": {
          "base_uri": "https://localhost:8080/"
        },
        "id": "hE7C8tL22lmD",
        "outputId": "4b8b06e3-c374-4482-c931-61619553271b"
      },
      "execution_count": null,
      "outputs": [
        {
          "output_type": "stream",
          "name": "stdout",
          "text": [
            "Hello World!\n"
          ]
        }
      ]
    },
    {
      "cell_type": "markdown",
      "source": [
        "Concept of variables and data types :\n",
        "EXERCISE: A travel company wants to fly a plane to the Bahamas. Flying the plane costs 5000 dollars. So far, 29 people have signed up for the trip. If the company charges 200 dollars per ticket, what is the profit made by the company? Create variables for each numeric quantity and use appropriate arithmetic operations."
      ],
      "metadata": {
        "id": "ovKfTdej2B9R"
      }
    },
    {
      "cell_type": "code",
      "source": [
        "plane_cost = 5000\n",
        "number_of_people = 29\n",
        "cost_of_each_ticket = 200\n",
        "\n",
        "profit_made = ((cost_of_each_ticket)*(number_of_people)) - 5000\n",
        "print(\"The Profit Made : $\", profit_made)"
      ],
      "metadata": {
        "id": "vxkFv26E23qA",
        "colab": {
          "base_uri": "https://localhost:8080/"
        },
        "outputId": "202dc26e-7e96-45ac-d055-c1ddef0ec685"
      },
      "execution_count": null,
      "outputs": [
        {
          "output_type": "stream",
          "name": "stdout",
          "text": [
            "The Profit Made : $ 800\n"
          ]
        }
      ]
    },
    {
      "cell_type": "markdown",
      "source": [
        "Concept of a conditional statement or a set of conditional statements and cases :\n",
        "Write a code snippet which evaluates whether a number is a multiple of just 2 , just 3 , or both 2 and 3 (multiple of 6)"
      ],
      "metadata": {
        "id": "xjAB_LDJ24I3"
      }
    },
    {
      "cell_type": "code",
      "source": [
        "#use if-else statements and print out the required information:\n",
        "num= 12\n",
        "#complete this area\n",
        "if(num != 0):\n",
        "  if(num % 2 == 0 and num % 3 == 0):\n",
        "      print(\"Multiple of both 2 and 3\")\n",
        "  elif(num % 2 == 0):\n",
        "    print(\"Multiple of 2 only\")\n",
        "  else:\n",
        "    print(\"Multiple of 3 only\")\n",
        "\n",
        "else:\n",
        "  print(\"Error\")"
      ],
      "metadata": {
        "id": "m_ZVPJuN3AXP",
        "colab": {
          "base_uri": "https://localhost:8080/"
        },
        "outputId": "1ba26bc4-4253-42c0-cf44-3acbf11aba7f"
      },
      "execution_count": null,
      "outputs": [
        {
          "output_type": "stream",
          "name": "stdout",
          "text": [
            "Multiple of both 2 and 3\n"
          ]
        }
      ]
    },
    {
      "cell_type": "markdown",
      "source": [
        "Concept of loops:\n",
        "Write a program to count the number of vowels in the given string:\n",
        "ANTIESTABLISHMENTARIANISTICALLY"
      ],
      "metadata": {
        "id": "O2bGzmzO3s9L"
      }
    },
    {
      "cell_type": "code",
      "source": [
        "s = 'ANTIESTABLISHMENTARIANISTICALLY'\n",
        "count = 0\n",
        "for i in s:\n",
        "  if (i == 'A' or i == 'E' or i == 'I' or i == 'O' or i == 'U'):\n",
        "    count += 1\n",
        "print(\"The number of Vowels are : \", count)"
      ],
      "metadata": {
        "id": "4g7drYH83vYE",
        "colab": {
          "base_uri": "https://localhost:8080/"
        },
        "outputId": "0ce84b86-989d-4b19-c34a-e7bb5c2616f3"
      },
      "execution_count": null,
      "outputs": [
        {
          "output_type": "stream",
          "name": "stdout",
          "text": [
            "The number of Vowels are :  12\n"
          ]
        }
      ]
    },
    {
      "cell_type": "markdown",
      "source": [
        "learning what each data- structure in python does and using all their functions:\n"
      ],
      "metadata": {
        "id": "e4Vc9Nw84bD5"
      }
    },
    {
      "cell_type": "markdown",
      "source": [
        "LISTS AND ITS FUNCTIONALITY:"
      ],
      "metadata": {
        "id": "OaEbJ_LY4joh"
      }
    },
    {
      "cell_type": "code",
      "source": [
        "#Define a random list of fruits \n",
        "l = ['apple','watermelon', 'grapes', 'oranges']\n",
        "#iterate over the list and find the name of the fruit which has the smallest word length\n",
        "smallest_word = min(l, key = len)\n",
        "print(\"The smallest word : \", smallest_word)\n",
        "# append a vegetable to your existing list\n",
        "l.append(\"potato\")\n",
        "print(l)\n",
        "\n",
        "# find the size of your list\n",
        "print(len(l))\n",
        "# add enough fruits such that your list size if greater that 4\n",
        "\n",
        "# delete the 2nd fruit(1st index) from your list:\n",
        "l.pop(1)\n",
        "print(l)\n",
        "# add your name in the 4th position of the list (3rd index)\n",
        "l.insert(3,\"Vishal\")\n",
        "print(l)\n",
        "#have fun and try out any 4-5 pre-defined fucntions on a list as seen in the python list documentation\n",
        "l.sort()\n",
        "print(l)\n",
        "l.reverse()\n",
        "print(l)\n",
        "l.remove('apple')\n",
        "print(l)\n",
        "print(\"Largest word : \", max(l, key = len)) # using max function to find the largest word in the list"
      ],
      "metadata": {
        "id": "rjle8Jat4n7b",
        "colab": {
          "base_uri": "https://localhost:8080/"
        },
        "outputId": "e0486f8a-521b-425f-9670-ced524ec32c9"
      },
      "execution_count": null,
      "outputs": [
        {
          "output_type": "stream",
          "name": "stdout",
          "text": [
            "The smallest word :  apple\n",
            "['apple', 'watermelon', 'grapes', 'oranges', 'potato']\n",
            "5\n",
            "['apple', 'grapes', 'oranges', 'potato']\n",
            "['apple', 'grapes', 'oranges', 'Vishal', 'potato']\n",
            "['Vishal', 'apple', 'grapes', 'oranges', 'potato']\n",
            "['potato', 'oranges', 'grapes', 'apple', 'Vishal']\n",
            "['potato', 'oranges', 'grapes', 'Vishal']\n",
            "Largest word :  oranges\n"
          ]
        }
      ]
    },
    {
      "cell_type": "markdown",
      "source": [
        "TUPLES AND ITS FUNCTIONALITY:"
      ],
      "metadata": {
        "id": "IAYs58gx4oWB"
      }
    },
    {
      "cell_type": "code",
      "source": [
        "#create abd tuple and print its elements \n",
        "t = (1,'apple',True)\n",
        "print(t)\n",
        "#print the type of each value in the tuple\n",
        "for i in t:\n",
        "  print(type(i))\n",
        "#try to change the seconf value in your tuple to \"Caterpillar\"\n",
        "x = list(t)\n",
        "x[2] = \"Caterpillar\"\n",
        "t = tuple(x)\n",
        "print(x)\n",
        "# print the last element of the tuple without using the length of the tuple\n",
        "print(t[-1])\n",
        "# slicing is an IMPORTANT concept in python especially since you will all be working on huge amounts of data so try different options \n",
        "# print(a[-2:]), print([:3]) etc...\n",
        "print(t[0::2])\n",
        "print(t[:1:])\n",
        "#sort vs sorted function: find the difference in the form of a program:\n",
        "\n",
        "#using sort:\n",
        "l = list(t)\n",
        "l.sort\n",
        "print(l)\n",
        "\n",
        "#using sorted:\n",
        "x = [5,1,3,2]\n",
        "print(sorted(x))"
      ],
      "metadata": {
        "id": "KquFBYey4qzu",
        "colab": {
          "base_uri": "https://localhost:8080/"
        },
        "outputId": "c84d69d4-ef85-484d-9c36-df8a4ad251a1"
      },
      "execution_count": null,
      "outputs": [
        {
          "output_type": "stream",
          "name": "stdout",
          "text": [
            "(1, 'apple', True)\n",
            "<class 'int'>\n",
            "<class 'str'>\n",
            "<class 'bool'>\n",
            "[1, 'apple', 'Caterpillar']\n",
            "Caterpillar\n",
            "(1, 'Caterpillar')\n",
            "(1,)\n",
            "[1, 'apple', 'Caterpillar']\n",
            "[1, 2, 3, 5]\n"
          ]
        }
      ]
    },
    {
      "cell_type": "code",
      "source": [],
      "metadata": {
        "id": "teVwaffCoa9V"
      },
      "execution_count": null,
      "outputs": []
    },
    {
      "cell_type": "markdown",
      "source": [
        "SETS AND ITS FUNCTIONALITY:"
      ],
      "metadata": {
        "id": "P3xn-gIL4rS6"
      }
    },
    {
      "cell_type": "code",
      "source": [
        "#explore the properties of set and after doing that solve this little puzzle below:"
      ],
      "metadata": {
        "id": "RlURFwFx4viZ"
      },
      "execution_count": null,
      "outputs": []
    },
    {
      "cell_type": "markdown",
      "source": [
        "Ana is a data-scientist  who just started her career in Meta, however she needs to find the existance of new words on facebook hashtags and find the numbre of unique such words which need to be added to the existing facebook hastag library:\n",
        "\n",
        "facebook hastag library : [\"ootd\", \"lol\", \"ffs\", \"asap\"]\n",
        "daily facebook hastag words string: \" rofl lol macha bob ootd asap fun sweet16 ffs lol asap ootd ffs macha rofl bob ootd fun candid anime happyhours bob fun happyhours\"\n",
        "You will need to indivitually extract the words from the string and then solve this problem ?? How are you going to do that ? \n",
        "# Reading documentation should become a habit ....."
      ],
      "metadata": {
        "id": "na8tI4EH70Lt"
      }
    },
    {
      "cell_type": "code",
      "source": [
        "#solve the above problem and help ana do her work she may even hire you as her assistant!!!\n",
        "existing_library = [\"ootd\", \"lol\", \"ffs\", \"asap\"]\n",
        "string = \"rofl lol macha bob ootd asap fun sweet16 ffs lol asap ootd ffs macha rofl bob ootd fun candid anime happyhours bob fun happyhours\"\n",
        "\n",
        "l = string.split(\" \")\n",
        "#print(l)\n",
        "new_set = set(l)\n",
        "#print(new_set)\n",
        "new_library = list() \n",
        "for i in new_set:\n",
        "  if i not in existing_library:\n",
        "    existing_library.append(i)\n",
        "print(existing_library)"
      ],
      "metadata": {
        "id": "0ww7Zs5BBiBQ",
        "colab": {
          "base_uri": "https://localhost:8080/"
        },
        "outputId": "2743bcf5-c184-477e-e0bf-9a99cd37543e"
      },
      "execution_count": null,
      "outputs": [
        {
          "output_type": "stream",
          "name": "stdout",
          "text": [
            "['ootd', 'lol', 'ffs', 'asap', 'macha', 'fun', 'rofl', 'bob', 'happyhours', 'anime', 'candid', 'sweet16']\n"
          ]
        }
      ]
    },
    {
      "cell_type": "markdown",
      "source": [
        "DICTIONARIES AND ITS FUNCTIONALITY:"
      ],
      "metadata": {
        "id": "kMmUm2qI4wBP"
      }
    },
    {
      "cell_type": "code",
      "source": [
        "#explore the usage of dictionaries because it is literally so useful when in comes data science\n",
        "#a lot of the data you will be using will be as key-value pairs "
      ],
      "metadata": {
        "id": "oR-54dFT4zYN"
      },
      "execution_count": null,
      "outputs": []
    },
    {
      "cell_type": "markdown",
      "source": [
        "Given an unsorted list of some elements(may or may not be integers), Find the frequency of each distinct element in the list using a dictionary. \n",
        "Input : [1, 1, 1, 5, 5, 3, 1, 3, 3, 1,\n",
        "                  4, 4, 4, 2, 2, 2, 2]\n",
        "\n",
        "Output : 1 : 5\n",
        "         2 : 4\n",
        "         3 : 3\n",
        "         4 : 3\n",
        "         5 : 2\n",
        "\n"
      ],
      "metadata": {
        "id": "V-iZrEMlE30W"
      }
    },
    {
      "cell_type": "code",
      "source": [
        "# Python program to count the frequency of\n",
        "# elements in a list using a dictionary\n",
        " \n",
        "def CountFrequency(my_list):\n",
        " \n",
        "    # Creating an empty dictionary\n",
        "    freq = {}\n",
        "    #------fill your code here-----------------\n",
        "    for i in my_list:\n",
        "      freq[i] = my_list.count(i)\n",
        "    print(freq)\n",
        "# Driver function\n",
        "if __name__ == \"__main__\":\n",
        "    my_list =[1, 1, 1, 5, 5, 3, 1, 3, 3, 1, 4, 4, 4, 2, 2, 2, 2]\n",
        " \n",
        "    CountFrequency(my_list)"
      ],
      "metadata": {
        "id": "dPP6aUJaFbbv",
        "colab": {
          "base_uri": "https://localhost:8080/"
        },
        "outputId": "d8924fc0-c5c7-48d1-a819-ffb2cd8d831d"
      },
      "execution_count": null,
      "outputs": [
        {
          "output_type": "stream",
          "name": "stdout",
          "text": [
            "{1: 5, 5: 2, 3: 3, 4: 3, 2: 4}\n"
          ]
        }
      ]
    },
    {
      "cell_type": "markdown",
      "source": [
        "Now that you have finished this basics exercise in python We shall now play in teams and winning Team doesn't get homework today !"
      ],
      "metadata": {
        "id": "7AoTxECAFvfc"
      }
    }
  ]
}
